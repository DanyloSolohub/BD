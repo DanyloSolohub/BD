{
 "cells": [
  {
   "cell_type": "markdown",
   "id": "be7f2602",
   "metadata": {},
   "source": [
    "<center><b>First task<b\\><center\\>"
   ]
  },
  {
   "cell_type": "markdown",
   "id": "873d3d7c",
   "metadata": {},
   "source": [
    "0.05*x1 + 0.07*x2 + 0*x3 = 2250\n",
    "0.05*x1 + 0*x2 +0.06*x3 = 1400\n",
    "x1 + x2 + x3 = 50000"
   ]
  },
  {
   "cell_type": "code",
   "execution_count": 1,
   "id": "74a28c72",
   "metadata": {},
   "outputs": [],
   "source": [
    "import numpy as np"
   ]
  },
  {
   "cell_type": "code",
   "execution_count": 3,
   "id": "ff56d307",
   "metadata": {},
   "outputs": [],
   "source": [
    "A = np.array([[0.05, 0.07, 0], [0.05, 0, 0.06], [1, 1, 1]])\n",
    "b = np.array([2250, 1400, 50000]) "
   ]
  },
  {
   "cell_type": "code",
   "execution_count": 4,
   "id": "c4967fcf",
   "metadata": {},
   "outputs": [
    {
     "data": {
      "text/plain": [
       "array([[0.05, 0.07, 0.  ],\n",
       "       [0.05, 0.  , 0.06],\n",
       "       [1.  , 1.  , 1.  ]])"
      ]
     },
     "execution_count": 4,
     "metadata": {},
     "output_type": "execute_result"
    }
   ],
   "source": [
    "A"
   ]
  },
  {
   "cell_type": "code",
   "execution_count": 5,
   "id": "6b337b7d",
   "metadata": {},
   "outputs": [
    {
     "data": {
      "text/plain": [
       "array([ 2250,  1400, 50000])"
      ]
     },
     "execution_count": 5,
     "metadata": {},
     "output_type": "execute_result"
    }
   ],
   "source": [
    "b"
   ]
  },
  {
   "cell_type": "markdown",
   "id": "e9a695dc",
   "metadata": {},
   "source": [
    "<center><b>1-st<b\\><center\\>"
   ]
  },
  {
   "cell_type": "code",
   "execution_count": 6,
   "id": "b60d7e87",
   "metadata": {},
   "outputs": [
    {
     "data": {
      "text/plain": [
       "array([10000., 25000., 15000.])"
      ]
     },
     "execution_count": 6,
     "metadata": {},
     "output_type": "execute_result"
    }
   ],
   "source": [
    "np.linalg.solve(A, b)"
   ]
  },
  {
   "cell_type": "markdown",
   "id": "58a68969",
   "metadata": {},
   "source": [
    "<center><b>2-nd<b\\><center\\>"
   ]
  },
  {
   "cell_type": "code",
   "execution_count": 8,
   "id": "acddbe98",
   "metadata": {},
   "outputs": [
    {
     "data": {
      "text/plain": [
       "array([[ 26.08695652,  30.43478261,  -1.82608696],\n",
       "       [ -4.34782609, -21.73913043,   1.30434783],\n",
       "       [-21.73913043,  -8.69565217,   1.52173913]])"
      ]
     },
     "execution_count": 8,
     "metadata": {},
     "output_type": "execute_result"
    }
   ],
   "source": [
    "A_inv = np.linalg.inv(A)\n",
    "A_inv"
   ]
  },
  {
   "cell_type": "code",
   "execution_count": 9,
   "id": "78551d65",
   "metadata": {},
   "outputs": [
    {
     "data": {
      "text/plain": [
       "array([10000., 25000., 15000.])"
      ]
     },
     "execution_count": 9,
     "metadata": {},
     "output_type": "execute_result"
    }
   ],
   "source": [
    "A_inv.dot(b)"
   ]
  },
  {
   "cell_type": "markdown",
   "id": "0531411e",
   "metadata": {},
   "source": [
    "<center><b>3-rd<b\\><center\\>"
   ]
  },
  {
   "cell_type": "code",
   "execution_count": 11,
   "id": "27784ba5",
   "metadata": {},
   "outputs": [
    {
     "data": {
      "text/plain": [
       "-0.002300000000000002"
      ]
     },
     "execution_count": 11,
     "metadata": {},
     "output_type": "execute_result"
    }
   ],
   "source": [
    "a = np.linalg.det(A)\n",
    "a"
   ]
  },
  {
   "cell_type": "code",
   "execution_count": 12,
   "id": "20047286",
   "metadata": {},
   "outputs": [
    {
     "data": {
      "text/plain": [
       "array([[2.25e+03, 7.00e-02, 0.00e+00],\n",
       "       [1.40e+03, 0.00e+00, 6.00e-02],\n",
       "       [5.00e+04, 1.00e+00, 1.00e+00]])"
      ]
     },
     "execution_count": 12,
     "metadata": {},
     "output_type": "execute_result"
    }
   ],
   "source": [
    "A1 = A.copy()\n",
    "A1[:, 0] = b\n",
    "A1"
   ]
  },
  {
   "cell_type": "code",
   "execution_count": 14,
   "id": "fc74d6b0",
   "metadata": {},
   "outputs": [
    {
     "data": {
      "text/plain": [
       "-23.00000000000002"
      ]
     },
     "execution_count": 14,
     "metadata": {},
     "output_type": "execute_result"
    }
   ],
   "source": [
    "a1 = np.linalg.det(A1)\n",
    "a1"
   ]
  },
  {
   "cell_type": "code",
   "execution_count": 15,
   "id": "93601aa3",
   "metadata": {},
   "outputs": [
    {
     "data": {
      "text/plain": [
       "10000.0"
      ]
     },
     "execution_count": 15,
     "metadata": {},
     "output_type": "execute_result"
    }
   ],
   "source": [
    "res1 = round(a1 / a,1)"
   ]
  },
  {
   "cell_type": "code",
   "execution_count": 16,
   "id": "2db65de5",
   "metadata": {},
   "outputs": [
    {
     "data": {
      "text/plain": [
       "25000.0"
      ]
     },
     "execution_count": 16,
     "metadata": {},
     "output_type": "execute_result"
    }
   ],
   "source": [
    "A2 = A.copy()\n",
    "A2[:, 1] = b\n",
    "a2 = np.linalg.det(A2)\n",
    "res2 = round(a2 / a,1)\n",
    "res2"
   ]
  },
  {
   "cell_type": "code",
   "execution_count": 17,
   "id": "e4e2204d",
   "metadata": {},
   "outputs": [
    {
     "data": {
      "text/plain": [
       "15000.0"
      ]
     },
     "execution_count": 17,
     "metadata": {},
     "output_type": "execute_result"
    }
   ],
   "source": [
    "A3 = A.copy()\n",
    "A3[:, 2] = b\n",
    "a3 = np.linalg.det(A3)\n",
    "res3 = round(a3 / a,1)\n",
    "res3"
   ]
  },
  {
   "cell_type": "markdown",
   "id": "0d512fa3",
   "metadata": {},
   "source": [
    "<center><b>Second Task<b\\><center\\>"
   ]
  },
  {
   "cell_type": "markdown",
   "id": "0b87777a",
   "metadata": {},
   "source": [
    "x1 - x2 = -120\n",
    "x1 - x3 = 100\n",
    "x1 + x2 + x3 = 1328"
   ]
  },
  {
   "cell_type": "code",
   "execution_count": 18,
   "id": "33188bf1",
   "metadata": {},
   "outputs": [],
   "source": [
    "A = np.array([[1, -1, 0], [1, 0, -1], [1, 1, 1]])\n",
    "b = np.array([-120, 100, 1328]) "
   ]
  },
  {
   "cell_type": "code",
   "execution_count": 20,
   "id": "e623bceb",
   "metadata": {},
   "outputs": [
    {
     "data": {
      "text/plain": [
       "array([436., 556., 336.])"
      ]
     },
     "execution_count": 20,
     "metadata": {},
     "output_type": "execute_result"
    }
   ],
   "source": [
    "np.linalg.solve(A, b)"
   ]
  },
  {
   "cell_type": "markdown",
   "id": "de221f1d",
   "metadata": {},
   "source": [
    "<center><b>Third Task<b\\><center\\>"
   ]
  },
  {
   "cell_type": "markdown",
   "id": "4a2b660b",
   "metadata": {},
   "source": [
    "3/a^2 + 0/b^2 + 3/z^2 = 1\n",
    "6/a^2 + 0.25/b^2 + 0/z^2 = 1\n",
    "1/a^2 + 1/3^-2/b^2 + 1/z^2 = 1\n",
    "Заміна:\n",
    "1/a^2 = p, +-a = (1/p)^-2\n",
    "1/b^2 = l, +-b = (1/l)^-2\n",
    "1/z^2 = m, +-z = (1/m)^-2"
   ]
  },
  {
   "cell_type": "code",
   "execution_count": 34,
   "id": "214137db",
   "metadata": {},
   "outputs": [],
   "source": [
    "A = np.array([[3, 0, 3], [6, 0.25, 0], [1, 1/3, 1]])\n",
    "b = np.array([1, 1, 1])"
   ]
  },
  {
   "cell_type": "code",
   "execution_count": 44,
   "id": "0f83ab3f",
   "metadata": {},
   "outputs": [
    {
     "data": {
      "text/plain": [
       "array([12. ,  0.5,  4. ])"
      ]
     },
     "execution_count": 44,
     "metadata": {},
     "output_type": "execute_result"
    }
   ],
   "source": [
    "p, l, m = np.linalg.solve(A, b)\n",
    "res = np.array([])\n",
    "res = np.append(res, [round(1/p,1),round(1/l,1),round(1/m,1)])\n",
    "res"
   ]
  },
  {
   "cell_type": "markdown",
   "id": "662e45fa",
   "metadata": {},
   "source": [
    "<center><b>Fourth Task<b\\><center\\>"
   ]
  },
  {
   "cell_type": "markdown",
   "id": "514c2205",
   "metadata": {},
   "source": [
    "a + b + c = 12\n",
    "9*a + 3*b + c = 54\n",
    "a - b + c = 2"
   ]
  },
  {
   "cell_type": "code",
   "execution_count": 45,
   "id": "54b28469",
   "metadata": {},
   "outputs": [],
   "source": [
    "A = np.array([[1, 1, 1], [9, 3, 1], [1, -1, 1]])\n",
    "b = np.array([12, 54, 2])"
   ]
  },
  {
   "cell_type": "code",
   "execution_count": 47,
   "id": "06f8bc99",
   "metadata": {},
   "outputs": [
    {
     "data": {
      "text/plain": [
       "array([4., 5., 3.])"
      ]
     },
     "execution_count": 47,
     "metadata": {},
     "output_type": "execute_result"
    }
   ],
   "source": [
    "np.linalg.solve(A, b)"
   ]
  },
  {
   "cell_type": "markdown",
   "id": "63b8424d",
   "metadata": {},
   "source": [
    "<center><b>Fifth Task<b\\><center\\>"
   ]
  },
  {
   "cell_type": "code",
   "execution_count": 76,
   "id": "261826eb",
   "metadata": {},
   "outputs": [],
   "source": [
    "from typing import List\n",
    "def get_polynom(coords: List[tuple] = [(1,12), (3,54), (-1,2)]):\n",
    "    matrix = []\n",
    "    b = []\n",
    "    n = len(coords)\n",
    "    for x, y in coords:\n",
    "        matrix.extend([x ** i for i in range(n)])\n",
    "        b.append(y)\n",
    "    matrix = np.array(matrix).reshape(n, n)\n",
    "    b = np.array(b).reshape(n, 1)\n",
    "    return np.linalg.solve(matrix, b)"
   ]
  },
  {
   "cell_type": "code",
   "execution_count": 77,
   "id": "e8d90daa",
   "metadata": {},
   "outputs": [
    {
     "name": "stdout",
     "output_type": "stream",
     "text": [
      "[1, 1, 1, 1, 3, 9, 1, -1, 1]\n",
      "[12, 54, 2]\n"
     ]
    },
    {
     "data": {
      "text/plain": [
       "array([[3.],\n",
       "       [5.],\n",
       "       [4.]])"
      ]
     },
     "execution_count": 77,
     "metadata": {},
     "output_type": "execute_result"
    }
   ],
   "source": [
    "get_polynom()"
   ]
  },
  {
   "cell_type": "code",
   "execution_count": null,
   "id": "23b01f96",
   "metadata": {},
   "outputs": [],
   "source": []
  }
 ],
 "metadata": {
  "kernelspec": {
   "display_name": "Python 3 (ipykernel)",
   "language": "python",
   "name": "python3"
  },
  "language_info": {
   "codemirror_mode": {
    "name": "ipython",
    "version": 3
   },
   "file_extension": ".py",
   "mimetype": "text/x-python",
   "name": "python",
   "nbconvert_exporter": "python",
   "pygments_lexer": "ipython3",
   "version": "3.8.10"
  }
 },
 "nbformat": 4,
 "nbformat_minor": 5
}
